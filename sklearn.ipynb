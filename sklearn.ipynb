{
 "cells": [
  {
   "cell_type": "markdown",
   "id": "737eeaf3-a582-4204-b463-56472515f5c0",
   "metadata": {
    "tags": []
   },
   "source": [
    "# Exercise 2"
   ]
  },
  {
   "cell_type": "markdown",
   "id": "ed207080-7845-48d4-947e-fd6f69646242",
   "metadata": {
    "tags": []
   },
   "source": [
    "#### Importing data and setting X and y"
   ]
  },
  {
   "cell_type": "code",
   "execution_count": 2,
   "id": "feb63ee0-ea0a-4793-ab8b-896bdaa259b4",
   "metadata": {},
   "outputs": [],
   "source": [
    "import pandas as pd\n",
    "from sklearn.metrics import classification_report\n",
    "from sklearn.feature_selection import SelectFromModel\n",
    "import pickle\n",
    "from sklearn.feature_selection import SelectKBest\n",
    "from sklearn.feature_selection import chi2"
   ]
  },
  {
   "cell_type": "code",
   "execution_count": 3,
   "id": "29278fd9-52cb-4429-8ded-4f4ddb3ed7fd",
   "metadata": {},
   "outputs": [],
   "source": [
    "with open('features.csv', 'r') as data:\n",
    "    df = pd.read_csv(data)"
   ]
  },
  {
   "cell_type": "code",
   "execution_count": 4,
   "id": "681890bb-974e-4fe7-bf52-7a0e4047d21d",
   "metadata": {},
   "outputs": [],
   "source": [
    "from sklearn.utils import shuffle\n",
    "data = shuffle(df)"
   ]
  },
  {
   "cell_type": "code",
   "execution_count": 6,
   "id": "42966f5c-ef3a-4830-8805-089c5787dea7",
   "metadata": {},
   "outputs": [
    {
     "name": "stdout",
     "output_type": "stream",
     "text": [
      "          f01       f02         f03       f04         f05       f06       f07  \\\n",
      "207  0.000000  1.000000  149.187801  1.306308  139.441744  0.143429  0.989661   \n",
      "401  0.000000  1.000000   60.000000  0.927295   36.878178  0.976187  0.216930   \n",
      "407  0.164399  0.986394   84.403791  0.936774   51.662365  0.967823  0.251634   \n",
      "396 -0.173785  0.984784  156.064089  1.032575   68.007353 -0.588172  0.808736   \n",
      "65   0.707107  0.707107   85.422479  1.096678   45.705580  0.175033  0.984563   \n",
      "..        ...       ...         ...       ...         ...       ...       ...   \n",
      "112  0.800000 -0.600000  202.000000  1.371459    9.486833  0.316228 -0.948683   \n",
      "326 -0.707107 -0.707107  143.178211  1.075909   93.300589  0.332259  0.943188   \n",
      "187  0.000000  1.000000  120.070812  1.309657   84.864598 -0.365288  0.930895   \n",
      "106 -0.707107 -0.707107  219.045657  1.049951   93.770998 -0.127971  0.991778   \n",
      "238  0.970143 -0.242536  156.320184  1.285467   33.615473  0.386727  0.922194   \n",
      "\n",
      "            f08        f09        f10        f11       f12   f13  \n",
      "207  305.529521   7.068583  12.892699  20.191993  3.382812   750  \n",
      "401  104.204990   3.141593   5.904225   3.250361  0.132812   656  \n",
      "407  143.784877   3.141593   4.791770   1.537381  0.390625   719  \n",
      "396  306.315351   4.957368   7.969038   6.815556  2.070312   578  \n",
      "65   197.805705   7.853982  13.078797  15.706744  0.324444   735  \n",
      "..          ...        ...        ...        ...       ...   ...  \n",
      "112  442.009437   9.424778  13.562003  10.415000  2.070312   968  \n",
      "326  305.555801  10.995574  17.258146  25.699489  1.137778  1203  \n",
      "187  159.521934  -3.141593   5.590365   4.060977  0.578125   500  \n",
      "106  446.507080  -2.356194  11.421652   4.678440  1.137778   860  \n",
      "238  288.639568   4.712389   8.679802   7.632747  1.395556   594  \n",
      "\n",
      "[520 rows x 13 columns]\n"
     ]
    }
   ],
   "source": [
    "X = data.iloc[:,0:-1]\n",
    "y = data.iloc[:,-1]\n",
    "print(X)"
   ]
  },
  {
   "cell_type": "markdown",
   "id": "b88cb1aa-d987-4d31-b4b2-19cd53376b37",
   "metadata": {
    "tags": []
   },
   "source": [
    "### Train/test split"
   ]
  },
  {
   "cell_type": "code",
   "execution_count": 7,
   "id": "fd074201-a867-458f-b10a-108201d243c5",
   "metadata": {},
   "outputs": [],
   "source": [
    "from sklearn.model_selection import train_test_split\n",
    "X_train, X_test, y_train, y_test = train_test_split(X, y, test_size = 0.2)"
   ]
  },
  {
   "cell_type": "markdown",
   "id": "abca3d48-cd90-4b35-94c0-a823d0075c98",
   "metadata": {
    "tags": []
   },
   "source": [
    "### Dummy Classifier"
   ]
  },
  {
   "cell_type": "code",
   "execution_count": 8,
   "id": "0bca2e14-c729-46b3-bd13-1e1cdbf85cd1",
   "metadata": {},
   "outputs": [],
   "source": [
    "# Create Classifier\n",
    "from sklearn.dummy import DummyClassifier\n",
    "ZeroR = DummyClassifier()\n",
    "ZeroR.fit(X_train, y_train)\n",
    "y_pred = ZeroR.predict(X_test)"
   ]
  },
  {
   "cell_type": "code",
   "execution_count": 9,
   "id": "8fa379ba-c80e-4263-b64c-314bf3662424",
   "metadata": {},
   "outputs": [
    {
     "name": "stdout",
     "output_type": "stream",
     "text": [
      "              precision    recall  f1-score   support\n",
      "\n",
      "           a       0.00      0.00      0.00         4\n",
      "           b       0.00      0.00      0.00         4\n",
      "           c       0.00      0.00      0.00         6\n",
      "           d       0.00      0.00      0.00         4\n",
      "           e       0.01      1.00      0.02         1\n",
      "           f       0.00      0.00      0.00         6\n",
      "           g       0.00      0.00      0.00         4\n",
      "           h       0.00      0.00      0.00         6\n",
      "           i       0.00      0.00      0.00         7\n",
      "           j       0.00      0.00      0.00         3\n",
      "           k       0.00      0.00      0.00         6\n",
      "           l       0.00      0.00      0.00         2\n",
      "           m       0.00      0.00      0.00         4\n",
      "           n       0.00      0.00      0.00         3\n",
      "           o       0.00      0.00      0.00         3\n",
      "           p       0.00      0.00      0.00         5\n",
      "           q       0.00      0.00      0.00         3\n",
      "           r       0.00      0.00      0.00         2\n",
      "           s       0.00      0.00      0.00         2\n",
      "           t       0.00      0.00      0.00         4\n",
      "           u       0.00      0.00      0.00         3\n",
      "           v       0.00      0.00      0.00         5\n",
      "           w       0.00      0.00      0.00         5\n",
      "           x       0.00      0.00      0.00         5\n",
      "           y       0.00      0.00      0.00         3\n",
      "           z       0.00      0.00      0.00         4\n",
      "\n",
      "    accuracy                           0.01       104\n",
      "   macro avg       0.00      0.04      0.00       104\n",
      "weighted avg       0.00      0.01      0.00       104\n",
      "\n"
     ]
    },
    {
     "name": "stderr",
     "output_type": "stream",
     "text": [
      "C:\\Users\\jlee4\\AppData\\Roaming\\jupyterlab-desktop\\jlab_server\\lib\\site-packages\\sklearn\\metrics\\_classification.py:1334: UndefinedMetricWarning: Precision and F-score are ill-defined and being set to 0.0 in labels with no predicted samples. Use `zero_division` parameter to control this behavior.\n",
      "  _warn_prf(average, modifier, msg_start, len(result))\n",
      "C:\\Users\\jlee4\\AppData\\Roaming\\jupyterlab-desktop\\jlab_server\\lib\\site-packages\\sklearn\\metrics\\_classification.py:1334: UndefinedMetricWarning: Precision and F-score are ill-defined and being set to 0.0 in labels with no predicted samples. Use `zero_division` parameter to control this behavior.\n",
      "  _warn_prf(average, modifier, msg_start, len(result))\n",
      "C:\\Users\\jlee4\\AppData\\Roaming\\jupyterlab-desktop\\jlab_server\\lib\\site-packages\\sklearn\\metrics\\_classification.py:1334: UndefinedMetricWarning: Precision and F-score are ill-defined and being set to 0.0 in labels with no predicted samples. Use `zero_division` parameter to control this behavior.\n",
      "  _warn_prf(average, modifier, msg_start, len(result))\n"
     ]
    }
   ],
   "source": [
    "# Create Classification Report\n",
    "print(classification_report(y_test, y_pred))"
   ]
  },
  {
   "cell_type": "markdown",
   "id": "27a26816-e85b-4525-ab56-e0e66f329ea7",
   "metadata": {
    "tags": []
   },
   "source": [
    "### Decision Tree"
   ]
  },
  {
   "cell_type": "code",
   "execution_count": 10,
   "id": "7f20f326-d3ea-479e-84b8-512a1a2d29ca",
   "metadata": {},
   "outputs": [
    {
     "name": "stdout",
     "output_type": "stream",
     "text": [
      "              precision    recall  f1-score   support\n",
      "\n",
      "           a       0.80      1.00      0.89         4\n",
      "           b       0.67      0.50      0.57         4\n",
      "           c       0.83      0.83      0.83         6\n",
      "           d       0.33      0.25      0.29         4\n",
      "           e       0.50      1.00      0.67         1\n",
      "           f       0.67      0.67      0.67         6\n",
      "           g       0.67      0.50      0.57         4\n",
      "           h       0.75      0.50      0.60         6\n",
      "           i       0.86      0.86      0.86         7\n",
      "           j       0.75      1.00      0.86         3\n",
      "           k       0.50      0.50      0.50         6\n",
      "           l       0.50      1.00      0.67         2\n",
      "           m       0.75      0.75      0.75         4\n",
      "           n       0.25      0.33      0.29         3\n",
      "           o       1.00      0.33      0.50         3\n",
      "           p       0.71      1.00      0.83         5\n",
      "           q       1.00      1.00      1.00         3\n",
      "           r       0.50      0.50      0.50         2\n",
      "           s       1.00      1.00      1.00         2\n",
      "           t       1.00      0.75      0.86         4\n",
      "           u       0.67      0.67      0.67         3\n",
      "           v       0.40      0.40      0.40         5\n",
      "           w       0.75      0.60      0.67         5\n",
      "           x       1.00      0.60      0.75         5\n",
      "           y       0.43      1.00      0.60         3\n",
      "           z       1.00      0.75      0.86         4\n",
      "\n",
      "    accuracy                           0.68       104\n",
      "   macro avg       0.70      0.70      0.68       104\n",
      "weighted avg       0.72      0.68      0.68       104\n",
      "\n"
     ]
    }
   ],
   "source": [
    "from sklearn.tree import DecisionTreeClassifier\n",
    "tree = DecisionTreeClassifier()\n",
    "tree.fit(X_train, y_train)\n",
    "y_pred = tree.predict(X_test)\n",
    "print(classification_report(y_test, y_pred))"
   ]
  },
  {
   "cell_type": "code",
   "execution_count": 11,
   "id": "8d160d07-3712-4a6a-94de-052e80a25a1a",
   "metadata": {},
   "outputs": [
    {
     "name": "stdout",
     "output_type": "stream",
     "text": [
      "[0.06597563 0.11742254 0.02248989 0.12534863 0.04132939 0.10546345\n",
      " 0.10680191 0.09982936 0.08275577 0.06225694 0.1000267  0.01835233\n",
      " 0.05194745]\n"
     ]
    }
   ],
   "source": [
    "# Feature importances\n",
    "print(tree.feature_importances_)"
   ]
  },
  {
   "cell_type": "markdown",
   "id": "c7cb7f6c-8371-478c-917c-a3bb90cc56d0",
   "metadata": {},
   "source": [
    "### Random Forest"
   ]
  },
  {
   "cell_type": "code",
   "execution_count": 12,
   "id": "2d1362fa-3104-4952-9f2f-f268dd88a1a9",
   "metadata": {},
   "outputs": [
    {
     "name": "stdout",
     "output_type": "stream",
     "text": [
      "              precision    recall  f1-score   support\n",
      "\n",
      "           a       1.00      1.00      1.00         4\n",
      "           b       1.00      1.00      1.00         4\n",
      "           c       0.86      1.00      0.92         6\n",
      "           d       1.00      1.00      1.00         4\n",
      "           e       0.50      1.00      0.67         1\n",
      "           f       1.00      0.83      0.91         6\n",
      "           g       1.00      0.75      0.86         4\n",
      "           h       0.83      0.83      0.83         6\n",
      "           i       1.00      0.86      0.92         7\n",
      "           j       0.75      1.00      0.86         3\n",
      "           k       1.00      0.83      0.91         6\n",
      "           l       0.67      1.00      0.80         2\n",
      "           m       1.00      0.75      0.86         4\n",
      "           n       1.00      1.00      1.00         3\n",
      "           o       1.00      0.67      0.80         3\n",
      "           p       1.00      1.00      1.00         5\n",
      "           q       1.00      1.00      1.00         3\n",
      "           r       1.00      1.00      1.00         2\n",
      "           s       0.67      1.00      0.80         2\n",
      "           t       1.00      1.00      1.00         4\n",
      "           u       0.67      0.67      0.67         3\n",
      "           v       0.83      1.00      0.91         5\n",
      "           w       1.00      0.80      0.89         5\n",
      "           x       1.00      0.80      0.89         5\n",
      "           y       0.75      1.00      0.86         3\n",
      "           z       0.80      1.00      0.89         4\n",
      "\n",
      "    accuracy                           0.90       104\n",
      "   macro avg       0.90      0.92      0.89       104\n",
      "weighted avg       0.92      0.90      0.91       104\n",
      "\n"
     ]
    }
   ],
   "source": [
    "from sklearn.ensemble import RandomForestClassifier\n",
    "forest = RandomForestClassifier()\n",
    "forest.fit(X_train, y_train)\n",
    "y_pred = forest.predict(X_test)\n",
    "print(classification_report(y_test, y_pred))"
   ]
  },
  {
   "cell_type": "code",
   "execution_count": 13,
   "id": "df875909-3549-42ba-bf75-44ee9597d658",
   "metadata": {},
   "outputs": [
    {
     "name": "stdout",
     "output_type": "stream",
     "text": [
      "[0.05635283 0.07038734 0.05064844 0.09756633 0.06446234 0.11560699\n",
      " 0.09204536 0.0686722  0.12295628 0.0653942  0.08743754 0.03503396\n",
      " 0.0734362 ]\n"
     ]
    }
   ],
   "source": [
    "# Feature importances\n",
    "print(forest.feature_importances_)"
   ]
  },
  {
   "cell_type": "markdown",
   "id": "51ae0ff9-834c-470b-8a79-19999277fc72",
   "metadata": {
    "tags": []
   },
   "source": [
    "### Neural Net"
   ]
  },
  {
   "cell_type": "code",
   "execution_count": 14,
   "id": "dbb135ba-b356-44c3-85b4-79cc3e346bd1",
   "metadata": {},
   "outputs": [
    {
     "name": "stdout",
     "output_type": "stream",
     "text": [
      "              precision    recall  f1-score   support\n",
      "\n",
      "           a       0.00      0.00      0.00         4\n",
      "           b       0.17      0.25      0.20         4\n",
      "           c       0.75      0.50      0.60         6\n",
      "           d       0.00      0.00      0.00         4\n",
      "           e       0.00      0.00      0.00         1\n",
      "           f       0.00      0.00      0.00         6\n",
      "           g       0.00      0.00      0.00         4\n",
      "           h       0.00      0.00      0.00         6\n",
      "           i       1.00      0.86      0.92         7\n",
      "           j       1.00      0.67      0.80         3\n",
      "           k       0.19      0.50      0.27         6\n",
      "           l       0.20      1.00      0.33         2\n",
      "           m       0.00      0.00      0.00         4\n",
      "           n       1.00      1.00      1.00         3\n",
      "           o       0.50      1.00      0.67         3\n",
      "           p       0.62      1.00      0.77         5\n",
      "           q       0.00      0.00      0.00         3\n",
      "           r       0.00      0.00      0.00         2\n",
      "           s       0.40      1.00      0.57         2\n",
      "           t       0.00      0.00      0.00         4\n",
      "           u       0.00      0.00      0.00         3\n",
      "           v       0.00      0.00      0.00         5\n",
      "           w       0.29      0.80      0.42         5\n",
      "           x       0.00      0.00      0.00         5\n",
      "           y       0.40      0.67      0.50         3\n",
      "           z       0.00      0.00      0.00         4\n",
      "\n",
      "    accuracy                           0.35       104\n",
      "   macro avg       0.25      0.36      0.27       104\n",
      "weighted avg       0.27      0.35      0.28       104\n",
      "\n"
     ]
    },
    {
     "name": "stderr",
     "output_type": "stream",
     "text": [
      "C:\\Users\\jlee4\\AppData\\Roaming\\jupyterlab-desktop\\jlab_server\\lib\\site-packages\\sklearn\\metrics\\_classification.py:1334: UndefinedMetricWarning: Precision and F-score are ill-defined and being set to 0.0 in labels with no predicted samples. Use `zero_division` parameter to control this behavior.\n",
      "  _warn_prf(average, modifier, msg_start, len(result))\n",
      "C:\\Users\\jlee4\\AppData\\Roaming\\jupyterlab-desktop\\jlab_server\\lib\\site-packages\\sklearn\\metrics\\_classification.py:1334: UndefinedMetricWarning: Precision and F-score are ill-defined and being set to 0.0 in labels with no predicted samples. Use `zero_division` parameter to control this behavior.\n",
      "  _warn_prf(average, modifier, msg_start, len(result))\n",
      "C:\\Users\\jlee4\\AppData\\Roaming\\jupyterlab-desktop\\jlab_server\\lib\\site-packages\\sklearn\\metrics\\_classification.py:1334: UndefinedMetricWarning: Precision and F-score are ill-defined and being set to 0.0 in labels with no predicted samples. Use `zero_division` parameter to control this behavior.\n",
      "  _warn_prf(average, modifier, msg_start, len(result))\n"
     ]
    }
   ],
   "source": [
    "from sklearn.neural_network import MLPClassifier\n",
    "net = MLPClassifier()\n",
    "net.fit(X_train, y_train)\n",
    "y_pred = net.predict(X_test)\n",
    "print(classification_report(y_test, y_pred))"
   ]
  },
  {
   "cell_type": "markdown",
   "id": "11b89317-fc7c-424f-abd3-c331c7fe9732",
   "metadata": {
    "tags": []
   },
   "source": [
    "### Naive Bayes"
   ]
  },
  {
   "cell_type": "code",
   "execution_count": 15,
   "id": "4288c54c-16b4-4ad9-a40e-376347998de9",
   "metadata": {},
   "outputs": [
    {
     "name": "stdout",
     "output_type": "stream",
     "text": [
      "              precision    recall  f1-score   support\n",
      "\n",
      "           a       0.80      1.00      0.89         4\n",
      "           b       1.00      0.50      0.67         4\n",
      "           c       1.00      0.83      0.91         6\n",
      "           d       0.60      0.75      0.67         4\n",
      "           e       0.50      1.00      0.67         1\n",
      "           f       0.60      0.50      0.55         6\n",
      "           g       0.38      0.75      0.50         4\n",
      "           h       0.50      0.83      0.62         6\n",
      "           i       1.00      0.86      0.92         7\n",
      "           j       0.67      0.67      0.67         3\n",
      "           k       0.60      0.50      0.55         6\n",
      "           l       1.00      1.00      1.00         2\n",
      "           m       0.60      0.75      0.67         4\n",
      "           n       0.67      0.67      0.67         3\n",
      "           o       1.00      1.00      1.00         3\n",
      "           p       1.00      1.00      1.00         5\n",
      "           q       1.00      0.67      0.80         3\n",
      "           r       0.67      1.00      0.80         2\n",
      "           s       1.00      1.00      1.00         2\n",
      "           t       0.75      0.75      0.75         4\n",
      "           u       0.67      0.67      0.67         3\n",
      "           v       1.00      0.60      0.75         5\n",
      "           w       1.00      0.60      0.75         5\n",
      "           x       1.00      0.60      0.75         5\n",
      "           y       0.75      1.00      0.86         3\n",
      "           z       1.00      0.75      0.86         4\n",
      "\n",
      "    accuracy                           0.75       104\n",
      "   macro avg       0.80      0.78      0.77       104\n",
      "weighted avg       0.81      0.75      0.76       104\n",
      "\n"
     ]
    }
   ],
   "source": [
    "from sklearn.naive_bayes import GaussianNB\n",
    "bayes = GaussianNB()\n",
    "bayes.fit(X_train, y_train)\n",
    "y_pred = bayes.predict(X_test)\n",
    "print(classification_report(y_test, y_pred))"
   ]
  },
  {
   "cell_type": "markdown",
   "id": "3a343fcc-27cd-4ddb-96f0-351d1ffc816a",
   "metadata": {
    "tags": []
   },
   "source": [
    "### SVM"
   ]
  },
  {
   "cell_type": "code",
   "execution_count": 16,
   "id": "66f5fbb5-41dc-45cd-9f48-38423b310100",
   "metadata": {},
   "outputs": [
    {
     "name": "stdout",
     "output_type": "stream",
     "text": [
      "              precision    recall  f1-score   support\n",
      "\n",
      "           a       0.10      0.75      0.18         4\n",
      "           b       0.00      0.00      0.00         4\n",
      "           c       0.50      0.17      0.25         6\n",
      "           d       0.00      0.00      0.00         4\n",
      "           e       0.00      0.00      0.00         1\n",
      "           f       0.00      0.00      0.00         6\n",
      "           g       0.00      0.00      0.00         4\n",
      "           h       0.00      0.00      0.00         6\n",
      "           i       0.86      0.86      0.86         7\n",
      "           j       1.00      0.33      0.50         3\n",
      "           k       0.00      0.00      0.00         6\n",
      "           l       0.50      1.00      0.67         2\n",
      "           m       0.00      0.00      0.00         4\n",
      "           n       0.00      0.00      0.00         3\n",
      "           o       1.00      0.33      0.50         3\n",
      "           p       0.83      1.00      0.91         5\n",
      "           q       0.00      0.00      0.00         3\n",
      "           r       0.67      1.00      0.80         2\n",
      "           s       0.04      1.00      0.08         2\n",
      "           t       0.00      0.00      0.00         4\n",
      "           u       0.00      0.00      0.00         3\n",
      "           v       0.00      0.00      0.00         5\n",
      "           w       0.00      0.00      0.00         5\n",
      "           x       0.00      0.00      0.00         5\n",
      "           y       0.00      0.00      0.00         3\n",
      "           z       0.00      0.00      0.00         4\n",
      "\n",
      "    accuracy                           0.22       104\n",
      "   macro avg       0.21      0.25      0.18       104\n",
      "weighted avg       0.21      0.22      0.18       104\n",
      "\n"
     ]
    },
    {
     "name": "stderr",
     "output_type": "stream",
     "text": [
      "C:\\Users\\jlee4\\AppData\\Roaming\\jupyterlab-desktop\\jlab_server\\lib\\site-packages\\sklearn\\svm\\_base.py:1225: ConvergenceWarning: Liblinear failed to converge, increase the number of iterations.\n",
      "  warnings.warn(\n",
      "C:\\Users\\jlee4\\AppData\\Roaming\\jupyterlab-desktop\\jlab_server\\lib\\site-packages\\sklearn\\metrics\\_classification.py:1334: UndefinedMetricWarning: Precision and F-score are ill-defined and being set to 0.0 in labels with no predicted samples. Use `zero_division` parameter to control this behavior.\n",
      "  _warn_prf(average, modifier, msg_start, len(result))\n",
      "C:\\Users\\jlee4\\AppData\\Roaming\\jupyterlab-desktop\\jlab_server\\lib\\site-packages\\sklearn\\metrics\\_classification.py:1334: UndefinedMetricWarning: Precision and F-score are ill-defined and being set to 0.0 in labels with no predicted samples. Use `zero_division` parameter to control this behavior.\n",
      "  _warn_prf(average, modifier, msg_start, len(result))\n",
      "C:\\Users\\jlee4\\AppData\\Roaming\\jupyterlab-desktop\\jlab_server\\lib\\site-packages\\sklearn\\metrics\\_classification.py:1334: UndefinedMetricWarning: Precision and F-score are ill-defined and being set to 0.0 in labels with no predicted samples. Use `zero_division` parameter to control this behavior.\n",
      "  _warn_prf(average, modifier, msg_start, len(result))\n"
     ]
    }
   ],
   "source": [
    "from sklearn.svm import LinearSVC\n",
    "svm = LinearSVC()\n",
    "svm.fit(X_train, y_train)\n",
    "y_pred = svm.predict(X_test)\n",
    "print(classification_report(y_test, y_pred))"
   ]
  },
  {
   "cell_type": "markdown",
   "id": "6d646f2b-8e9e-4a16-9e64-a8eb543c2e2b",
   "metadata": {
    "tags": []
   },
   "source": [
    "### Perceptron"
   ]
  },
  {
   "cell_type": "code",
   "execution_count": 17,
   "id": "eccff759-7946-415b-b82c-cd46c140f557",
   "metadata": {},
   "outputs": [
    {
     "name": "stdout",
     "output_type": "stream",
     "text": [
      "              precision    recall  f1-score   support\n",
      "\n",
      "           a       0.00      0.00      0.00         4\n",
      "           b       0.00      0.00      0.00         4\n",
      "           c       0.00      0.00      0.00         6\n",
      "           d       0.00      0.00      0.00         4\n",
      "           e       0.00      0.00      0.00         1\n",
      "           f       0.17      0.50      0.25         6\n",
      "           g       0.00      0.00      0.00         4\n",
      "           h       0.00      0.00      0.00         6\n",
      "           i       0.67      0.29      0.40         7\n",
      "           j       0.00      0.00      0.00         3\n",
      "           k       0.00      0.00      0.00         6\n",
      "           l       0.00      0.00      0.00         2\n",
      "           m       0.00      0.00      0.00         4\n",
      "           n       0.14      1.00      0.24         3\n",
      "           o       0.00      0.00      0.00         3\n",
      "           p       0.00      0.00      0.00         5\n",
      "           q       0.00      0.00      0.00         3\n",
      "           r       0.00      0.00      0.00         2\n",
      "           s       0.18      1.00      0.31         2\n",
      "           t       0.00      0.00      0.00         4\n",
      "           u       0.00      0.00      0.00         3\n",
      "           v       0.00      0.00      0.00         5\n",
      "           w       0.00      0.00      0.00         5\n",
      "           x       0.00      0.00      0.00         5\n",
      "           y       0.10      1.00      0.18         3\n",
      "           z       0.15      0.75      0.25         4\n",
      "\n",
      "    accuracy                           0.15       104\n",
      "   macro avg       0.05      0.17      0.06       104\n",
      "weighted avg       0.07      0.15      0.07       104\n",
      "\n"
     ]
    },
    {
     "name": "stderr",
     "output_type": "stream",
     "text": [
      "C:\\Users\\jlee4\\AppData\\Roaming\\jupyterlab-desktop\\jlab_server\\lib\\site-packages\\sklearn\\metrics\\_classification.py:1334: UndefinedMetricWarning: Precision and F-score are ill-defined and being set to 0.0 in labels with no predicted samples. Use `zero_division` parameter to control this behavior.\n",
      "  _warn_prf(average, modifier, msg_start, len(result))\n",
      "C:\\Users\\jlee4\\AppData\\Roaming\\jupyterlab-desktop\\jlab_server\\lib\\site-packages\\sklearn\\metrics\\_classification.py:1334: UndefinedMetricWarning: Precision and F-score are ill-defined and being set to 0.0 in labels with no predicted samples. Use `zero_division` parameter to control this behavior.\n",
      "  _warn_prf(average, modifier, msg_start, len(result))\n",
      "C:\\Users\\jlee4\\AppData\\Roaming\\jupyterlab-desktop\\jlab_server\\lib\\site-packages\\sklearn\\metrics\\_classification.py:1334: UndefinedMetricWarning: Precision and F-score are ill-defined and being set to 0.0 in labels with no predicted samples. Use `zero_division` parameter to control this behavior.\n",
      "  _warn_prf(average, modifier, msg_start, len(result))\n"
     ]
    }
   ],
   "source": [
    "from sklearn.linear_model import Perceptron\n",
    "tron = Perceptron()\n",
    "tron.fit(X_train, y_train)\n",
    "y_pred = tron.predict(X_test)\n",
    "print(classification_report(y_test, y_pred))"
   ]
  },
  {
   "cell_type": "markdown",
   "id": "d6ed8076-a3a9-4d8d-9e31-fb8fcc7247f8",
   "metadata": {},
   "source": [
    "### Pickling everything"
   ]
  },
  {
   "cell_type": "code",
   "execution_count": 18,
   "id": "93af01ac-4c65-41a5-a2a1-90c4f83fbe6a",
   "metadata": {},
   "outputs": [],
   "source": [
    "pickle.dump(ZeroR, open('ZeroR.sav', 'wb'))\n",
    "pickle.dump(tree, open('tree.sav', 'wb'))\n",
    "pickle.dump(forest, open('forest.sav', 'wb'))\n",
    "pickle.dump(net, open('net.sav', 'wb'))\n",
    "pickle.dump(bayes, open('bayes.sav', 'wb'))\n",
    "pickle.dump(svm, open('svm.sav', 'wb'))\n",
    "pickle.dump(tron, open('tron.sav', 'wb'))"
   ]
  },
  {
   "cell_type": "code",
   "execution_count": 19,
   "id": "96524538-39ee-49f8-a732-d41f6858b524",
   "metadata": {},
   "outputs": [
    {
     "name": "stdout",
     "output_type": "stream",
     "text": [
      "Index(['f01', 'f02', 'f04', 'f05', 'f06', 'f07', 'f08', 'f09', 'f10', 'f11'], dtype='object')\n"
     ]
    }
   ],
   "source": [
    "# Feature Selection\n",
    "best = SelectKBest(k=10)\n",
    "X = best.fit_transform(X_old, y)\n",
    "column_names = X_old.columns[best.get_support()]\n",
    "print(column_names)"
   ]
  },
  {
   "cell_type": "code",
   "execution_count": null,
   "id": "a5fcbe4b-9fa1-4f43-9fb1-0d482af16ce2",
   "metadata": {},
   "outputs": [],
   "source": []
  }
 ],
 "metadata": {
  "kernelspec": {
   "display_name": "Python 3 (ipykernel)",
   "language": "python",
   "name": "python3"
  },
  "language_info": {
   "codemirror_mode": {
    "name": "ipython",
    "version": 3
   },
   "file_extension": ".py",
   "mimetype": "text/x-python",
   "name": "python",
   "nbconvert_exporter": "python",
   "pygments_lexer": "ipython3",
   "version": "3.8.13"
  }
 },
 "nbformat": 4,
 "nbformat_minor": 5
}
