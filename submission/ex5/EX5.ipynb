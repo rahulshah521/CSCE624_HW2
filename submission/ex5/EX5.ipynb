{
  "nbformat": 4,
  "nbformat_minor": 0,
  "metadata": {
    "colab": {
      "provenance": []
    },
    "kernelspec": {
      "name": "python3",
      "display_name": "Python 3"
    },
    "language_info": {
      "name": "python"
    }
  },
  "cells": [
    {
      "cell_type": "markdown",
      "source": [
        "Imports"
      ],
      "metadata": {
        "id": "bhbWkkr3i4eM"
      }
    },
    {
      "cell_type": "code",
      "execution_count": 3,
      "metadata": {
        "id": "tvgTnAUrivIF"
      },
      "outputs": [],
      "source": [
        "import pandas as pd\n",
        "from sklearn.metrics import classification_report\n",
        "from sklearn.feature_selection import SelectFromModel\n",
        "import pickle\n",
        "from sklearn.feature_selection import SelectKBest\n",
        "from sklearn.feature_selection import chi2"
      ]
    },
    {
      "cell_type": "markdown",
      "source": [
        "Import dataset"
      ],
      "metadata": {
        "id": "noLbj9skkYsN"
      }
    },
    {
      "cell_type": "code",
      "source": [
        "with open('shape_features.csv', 'r') as data:\n",
        "    df = pd.read_csv(data)"
      ],
      "metadata": {
        "id": "h3WKlIBGi65A"
      },
      "execution_count": 4,
      "outputs": []
    },
    {
      "cell_type": "markdown",
      "source": [
        "Shuffle data"
      ],
      "metadata": {
        "id": "uKSvHmxUkbm3"
      }
    },
    {
      "cell_type": "code",
      "source": [
        "from sklearn.utils import shuffle\n",
        "data = shuffle(df)"
      ],
      "metadata": {
        "id": "IZPouBp1jC8X"
      },
      "execution_count": 5,
      "outputs": []
    },
    {
      "cell_type": "markdown",
      "source": [
        "Separate features from labels, and split into train and test sets. Drop useless features\n"
      ],
      "metadata": {
        "id": "khx6Pkrbkc6Y"
      }
    },
    {
      "cell_type": "code",
      "source": [
        "from sklearn.model_selection import train_test_split\n",
        "\n",
        "X = df.iloc[:,0:-1]\n",
        "y = df.iloc[:,-1]\n",
        "columns = X.columns\n",
        "print(columns)\n",
        "X = X.drop(columns=['Max speed squared', 'Min speed squared', 'Total duration', 'Bounding box area', 'Movement', 'Bounding box height', 'Bounding box width', 'Length ratio'])"
      ],
      "metadata": {
        "colab": {
          "base_uri": "https://localhost:8080/"
        },
        "id": "Z8dPeSEhjPHF",
        "outputId": "16a91bb8-8b34-41b9-c379-ef38c76104b8"
      },
      "execution_count": 6,
      "outputs": [
        {
          "output_type": "stream",
          "name": "stdout",
          "text": [
            "Index(['Angle of BB diagonal', 'Aspect', 'Average curvature',\n",
            "       'Average squared speed', 'Bounding box area', 'Bounding box diagonal',\n",
            "       'Bounding box height', 'Bounding box width', 'Convex hull area ratio',\n",
            "       'Cos of first to last', 'Cos of initial angle', 'Curviness', 'DCR',\n",
            "       'Density 1', 'Density 2', 'Distance first to last',\n",
            "       'Enclosing shape5 ratio', 'Entropy', 'Least shape3 error',\n",
            "       'Length perimeter ratio', 'Length ratio', 'Log BB area', 'Log aspect',\n",
            "       'Log longest BB side', 'Log total length', 'Max curvature',\n",
            "       'Max speed squared', 'Min speed squared', 'Movement', 'NDDE',\n",
            "       'Openness', 'Overtracing', 'Perimeter efficiency', 'Perimeter to area',\n",
            "       'Point ratio', 'Sharpness', 'Sin of first to last',\n",
            "       'Sin of initial angle', 'Thinness ratio', 'Total angle',\n",
            "       'Total angle / total length', 'Total duration', 'Total length',\n",
            "       'Total length / BB diagonal', 'Width to height ratio'],\n",
            "      dtype='object')\n"
          ]
        }
      ]
    },
    {
      "cell_type": "markdown",
      "source": [
        "Feature Selection"
      ],
      "metadata": {
        "id": "UdJMx4pOCSd-"
      }
    },
    {
      "cell_type": "code",
      "source": [
        "from sklearn.feature_selection import SelectFromModel\n",
        "from sklearn.linear_model import LogisticRegression\n",
        "\n",
        "selector = SelectFromModel(estimator=LogisticRegression(), threshold='1.5*mean').fit(X,y)\n",
        "names = selector.get_feature_names_out(X.columns)\n",
        "X = selector.transform(X)\n",
        "X = pd.DataFrame(X, columns=names)\n",
        "X_train, X_test, y_train, y_test = train_test_split(X, y, test_size = 0.1)"
      ],
      "metadata": {
        "colab": {
          "base_uri": "https://localhost:8080/"
        },
        "id": "o0JX8aGBHmpE",
        "outputId": "b3f1edd4-4739-40c2-a8d5-e4e4d4a61ee0"
      },
      "execution_count": 7,
      "outputs": [
        {
          "output_type": "stream",
          "name": "stderr",
          "text": [
            "/usr/local/lib/python3.7/dist-packages/sklearn/linear_model/_logistic.py:818: ConvergenceWarning: lbfgs failed to converge (status=1):\n",
            "STOP: TOTAL NO. of ITERATIONS REACHED LIMIT.\n",
            "\n",
            "Increase the number of iterations (max_iter) or scale the data as shown in:\n",
            "    https://scikit-learn.org/stable/modules/preprocessing.html\n",
            "Please also refer to the documentation for alternative solver options:\n",
            "    https://scikit-learn.org/stable/modules/linear_model.html#logistic-regression\n",
            "  extra_warning_msg=_LOGISTIC_SOLVER_CONVERGENCE_MSG,\n"
          ]
        }
      ]
    },
    {
      "cell_type": "markdown",
      "source": [
        "Dataset Statistics"
      ],
      "metadata": {
        "id": "AYuynXcprt8R"
      }
    },
    {
      "cell_type": "code",
      "source": [
        "print(str(len(X_train)) + \" samples in the training set\")\n",
        "print(str(len(X_test)) + \" samples in the test set\")\n",
        "print(str(len(X_train.columns)) + \" features\")\n",
        "print(str(len(set(y_train))) + \" labels\")\n",
        "print(\"Labels are:\", set(y_train))\n",
        "print(\"Features are:\", set(X_train.columns))"
      ],
      "metadata": {
        "colab": {
          "base_uri": "https://localhost:8080/"
        },
        "id": "WO9Tdf2jmgpw",
        "outputId": "f35197bb-0df7-4d8c-c604-cfd2d7359289"
      },
      "execution_count": 8,
      "outputs": [
        {
          "output_type": "stream",
          "name": "stdout",
          "text": [
            "189 samples in the training set\n",
            "21 samples in the test set\n",
            "6 features\n",
            "5 labels\n",
            "Labels are: {'shape4', 'shape1', 'shape2', 'shape5', 'shape3'}\n",
            "Features are: {'Sharpness', 'Distance first to last', 'Bounding box diagonal', 'Density 1', 'Total length', 'Total angle'}\n"
          ]
        }
      ]
    },
    {
      "cell_type": "markdown",
      "source": [
        "Train Model"
      ],
      "metadata": {
        "id": "1hlfHwx4S7SX"
      }
    },
    {
      "cell_type": "code",
      "source": [
        "from sklearn.ensemble import RandomForestClassifier\n",
        "\n",
        "model = RandomForestClassifier(criterion='gini', verbose=False)\n",
        "model.fit(X,y)\n",
        "\n",
        "print(\"Training Accuracy\", model.score(X_train, y_train)*100, \"%\")\n",
        "print(\"------\")\n",
        "print(\"Test Accuracy\", model.score(X_test, y_test)*100, \"%\")\n",
        "\n"
      ],
      "metadata": {
        "colab": {
          "base_uri": "https://localhost:8080/"
        },
        "id": "IrDGuIFmkieQ",
        "outputId": "966fbcd8-3355-4b83-f0c0-c865a8e19909"
      },
      "execution_count": 13,
      "outputs": [
        {
          "output_type": "stream",
          "name": "stdout",
          "text": [
            "Training Accuracy 100.0 %\n",
            "------\n",
            "Test Accuracy 100.0 %\n"
          ]
        }
      ]
    },
    {
      "cell_type": "markdown",
      "source": [
        "Print Classification Report"
      ],
      "metadata": {
        "id": "ocsAtfLECMvR"
      }
    },
    {
      "cell_type": "code",
      "source": [
        "from sklearn.metrics import classification_report\n",
        "print(classification_report(model.predict(X_test),y_test))"
      ],
      "metadata": {
        "colab": {
          "base_uri": "https://localhost:8080/"
        },
        "id": "zS6z7bbEB2F0",
        "outputId": "d5256984-5019-4746-bcd9-c6724888099a"
      },
      "execution_count": 14,
      "outputs": [
        {
          "output_type": "stream",
          "name": "stdout",
          "text": [
            "              precision    recall  f1-score   support\n",
            "\n",
            "      shape1       1.00      1.00      1.00         8\n",
            "      shape2       1.00      1.00      1.00         3\n",
            "      shape3       1.00      1.00      1.00         4\n",
            "      shape4       1.00      1.00      1.00         2\n",
            "      shape5       1.00      1.00      1.00         4\n",
            "\n",
            "    accuracy                           1.00        21\n",
            "   macro avg       1.00      1.00      1.00        21\n",
            "weighted avg       1.00      1.00      1.00        21\n",
            "\n"
          ]
        }
      ]
    },
    {
      "cell_type": "markdown",
      "source": [
        "Save Model"
      ],
      "metadata": {
        "id": "UsA_I3e8CQIA"
      }
    },
    {
      "cell_type": "code",
      "source": [
        "pickle.dump(model, open('Ex5_shape_classifier_random_forest.sav','wb'))"
      ],
      "metadata": {
        "id": "RhHZlrJ3nhsi"
      },
      "execution_count": 15,
      "outputs": []
    }
  ]
}