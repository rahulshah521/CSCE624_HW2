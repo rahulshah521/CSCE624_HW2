{
  "nbformat": 4,
  "nbformat_minor": 0,
  "metadata": {
    "colab": {
      "provenance": []
    },
    "kernelspec": {
      "name": "python3",
      "display_name": "Python 3"
    },
    "language_info": {
      "name": "python"
    }
  },
  "cells": [
    {
      "cell_type": "markdown",
      "source": [
        "Imports"
      ],
      "metadata": {
        "id": "bhbWkkr3i4eM"
      }
    },
    {
      "cell_type": "code",
      "execution_count": 111,
      "metadata": {
        "id": "tvgTnAUrivIF"
      },
      "outputs": [],
      "source": [
        "import pandas as pd\n",
        "from sklearn.metrics import classification_report\n",
        "from sklearn.feature_selection import SelectFromModel\n",
        "import pickle\n",
        "from sklearn.feature_selection import SelectKBest\n",
        "from sklearn.feature_selection import chi2"
      ]
    },
    {
      "cell_type": "markdown",
      "source": [
        "Import dataset"
      ],
      "metadata": {
        "id": "noLbj9skkYsN"
      }
    },
    {
      "cell_type": "code",
      "source": [
        "with open('shape_features.csv', 'r') as data:\n",
        "    df = pd.read_csv(data)"
      ],
      "metadata": {
        "id": "h3WKlIBGi65A"
      },
      "execution_count": 96,
      "outputs": []
    },
    {
      "cell_type": "markdown",
      "source": [
        "Shuffle data"
      ],
      "metadata": {
        "id": "uKSvHmxUkbm3"
      }
    },
    {
      "cell_type": "code",
      "source": [
        "from sklearn.utils import shuffle\n",
        "data = shuffle(df)"
      ],
      "metadata": {
        "id": "IZPouBp1jC8X"
      },
      "execution_count": 97,
      "outputs": []
    },
    {
      "cell_type": "markdown",
      "source": [
        "Separate features from labels, and split into train and test sets. Drop useless features\n"
      ],
      "metadata": {
        "id": "khx6Pkrbkc6Y"
      }
    },
    {
      "cell_type": "code",
      "source": [
        "from sklearn.model_selection import train_test_split\n",
        "\n",
        "X = df.iloc[:,0:-1]\n",
        "y = df.iloc[:,-1]\n",
        "columns = X.columns\n",
        "print(columns)\n",
        "X = X.drop(columns=['Max speed squared', 'Min speed squared', 'Total duration', 'Bounding box area', 'Movement', 'Bounding box height', 'Bounding box width', 'Length ratio'])"
      ],
      "metadata": {
        "colab": {
          "base_uri": "https://localhost:8080/"
        },
        "id": "Z8dPeSEhjPHF",
        "outputId": "8f5f4655-cbd6-47c3-ccdd-480fecb43a3e"
      },
      "execution_count": 768,
      "outputs": [
        {
          "output_type": "stream",
          "name": "stdout",
          "text": [
            "Index(['Angle of BB diagonal', 'Aspect', 'Average curvature',\n",
            "       'Average squared speed', 'Bounding box area', 'Bounding box diagonal',\n",
            "       'Bounding box height', 'Bounding box width', 'Convex hull area ratio',\n",
            "       'Cos of first to last', 'Cos of initial angle', 'Curviness', 'DCR',\n",
            "       'Density 1', 'Density 2', 'Distance first to last',\n",
            "       'Enclosing shape5 ratio', 'Entropy', 'Least shape3 error',\n",
            "       'Length perimeter ratio', 'Length ratio', 'Log BB area', 'Log aspect',\n",
            "       'Log longest BB side', 'Log total length', 'Max curvature',\n",
            "       'Max speed squared', 'Min speed squared', 'Movement', 'NDDE',\n",
            "       'Openness', 'Overtracing', 'Perimeter efficiency', 'Perimeter to area',\n",
            "       'Point ratio', 'Sharpness', 'Sin of first to last',\n",
            "       'Sin of initial angle', 'Thinness ratio', 'Total angle',\n",
            "       'Total angle / total length', 'Total duration', 'Total length',\n",
            "       'Total length / BB diagonal', 'Width to height ratio'],\n",
            "      dtype='object')\n"
          ]
        }
      ]
    },
    {
      "cell_type": "markdown",
      "source": [
        "Feature Selection by calculating mutual information between features, and selecting the top 25\n",
        "\n"
      ],
      "metadata": {
        "id": "kWXLQXUMtkrA"
      }
    },
    {
      "cell_type": "code",
      "source": [
        "from sklearn.feature_selection import mutual_info_classif, f_classif\n",
        "X = SelectKBest(score_func=mutual_info_classif,k=25).fit_transform(X, y)\n",
        "X = pd.DataFrame(X)"
      ],
      "metadata": {
        "id": "HS6xAW2Qtm7L"
      },
      "execution_count": 769,
      "outputs": []
    },
    {
      "cell_type": "markdown",
      "source": [
        "Split into training and test sets"
      ],
      "metadata": {
        "id": "Av5yx_yutqBy"
      }
    },
    {
      "cell_type": "code",
      "source": [
        "X_train, X_test, y_train, y_test = train_test_split(X, y, test_size = 0.1)"
      ],
      "metadata": {
        "id": "tDRze1r_tojb"
      },
      "execution_count": 777,
      "outputs": []
    },
    {
      "cell_type": "markdown",
      "source": [
        "Dataset Statistics"
      ],
      "metadata": {
        "id": "AYuynXcprt8R"
      }
    },
    {
      "cell_type": "code",
      "source": [
        "print(str(len(X_train)) + \" samples in the training set\")\n",
        "print(str(len(X_test)) + \" samples in the test set\")\n",
        "print(str(len(X_train.columns)) + \" features\")\n",
        "print(str(len(set(y_train))) + \" labels\")\n",
        "print(\"Labels are:\", set(y_train))\n",
        "print(\"Features are:\", set(X_train.columns))"
      ],
      "metadata": {
        "colab": {
          "base_uri": "https://localhost:8080/"
        },
        "id": "WO9Tdf2jmgpw",
        "outputId": "e660d25c-2c07-4ddf-b933-cda1621269f7"
      },
      "execution_count": 771,
      "outputs": [
        {
          "output_type": "stream",
          "name": "stdout",
          "text": [
            "189 samples in the training set\n",
            "21 samples in the test set\n",
            "25 features\n",
            "5 labels\n",
            "Labels are: {'shape3', 'shape2', 'shape4', 'shape5', 'shape1'}\n",
            "Features are: {0, 1, 2, 3, 4, 5, 6, 7, 8, 9, 10, 11, 12, 13, 14, 15, 16, 17, 18, 19, 20, 21, 22, 23, 24}\n"
          ]
        }
      ]
    },
    {
      "cell_type": "markdown",
      "source": [
        "Train neural net"
      ],
      "metadata": {
        "id": "UdJMx4pOCSd-"
      }
    },
    {
      "cell_type": "code",
      "source": [
        "from sklearn.neural_network import MLPClassifier\n",
        "\n",
        "model = MLPClassifier(activation='relu', hidden_layer_sizes=(20), solver='adam', verbose=False, random_state=3)\n",
        "model.fit(X_train,y_train)\n",
        "model.score(X_test, y_test)\n"
      ],
      "metadata": {
        "colab": {
          "base_uri": "https://localhost:8080/"
        },
        "id": "IrDGuIFmkieQ",
        "outputId": "87be33a4-039f-4ad4-f336-ac19a752bfdd"
      },
      "execution_count": 826,
      "outputs": [
        {
          "output_type": "stream",
          "name": "stderr",
          "text": [
            "/usr/local/lib/python3.7/dist-packages/sklearn/neural_network/_multilayer_perceptron.py:696: ConvergenceWarning: Stochastic Optimizer: Maximum iterations (200) reached and the optimization hasn't converged yet.\n",
            "  ConvergenceWarning,\n"
          ]
        },
        {
          "output_type": "execute_result",
          "data": {
            "text/plain": [
              "0.8571428571428571"
            ]
          },
          "metadata": {},
          "execution_count": 826
        }
      ]
    },
    {
      "cell_type": "markdown",
      "source": [
        "Print Classification Report"
      ],
      "metadata": {
        "id": "ocsAtfLECMvR"
      }
    },
    {
      "cell_type": "code",
      "source": [
        "from sklearn.metrics import classification_report\n",
        "print(classification_report(model.predict(X_test),y_test))"
      ],
      "metadata": {
        "colab": {
          "base_uri": "https://localhost:8080/"
        },
        "id": "zS6z7bbEB2F0",
        "outputId": "68c1e8c8-4128-498a-a8c1-4ff6306e7f21"
      },
      "execution_count": 829,
      "outputs": [
        {
          "output_type": "stream",
          "name": "stdout",
          "text": [
            "              precision    recall  f1-score   support\n",
            "\n",
            "      shape1       1.00      0.75      0.86         4\n",
            "      shape2       1.00      1.00      1.00         6\n",
            "      shape3       0.62      1.00      0.77         5\n",
            "      shape4       1.00      1.00      1.00         4\n",
            "      shape5       0.00      0.00      0.00         2\n",
            "\n",
            "    accuracy                           0.86        21\n",
            "   macro avg       0.72      0.75      0.73        21\n",
            "weighted avg       0.82      0.86      0.82        21\n",
            "\n"
          ]
        },
        {
          "output_type": "stream",
          "name": "stderr",
          "text": [
            "/usr/local/lib/python3.7/dist-packages/sklearn/metrics/_classification.py:1318: UndefinedMetricWarning: Precision and F-score are ill-defined and being set to 0.0 in labels with no predicted samples. Use `zero_division` parameter to control this behavior.\n",
            "  _warn_prf(average, modifier, msg_start, len(result))\n",
            "/usr/local/lib/python3.7/dist-packages/sklearn/metrics/_classification.py:1318: UndefinedMetricWarning: Precision and F-score are ill-defined and being set to 0.0 in labels with no predicted samples. Use `zero_division` parameter to control this behavior.\n",
            "  _warn_prf(average, modifier, msg_start, len(result))\n",
            "/usr/local/lib/python3.7/dist-packages/sklearn/metrics/_classification.py:1318: UndefinedMetricWarning: Precision and F-score are ill-defined and being set to 0.0 in labels with no predicted samples. Use `zero_division` parameter to control this behavior.\n",
            "  _warn_prf(average, modifier, msg_start, len(result))\n"
          ]
        }
      ]
    },
    {
      "cell_type": "markdown",
      "source": [
        "Save Model"
      ],
      "metadata": {
        "id": "UsA_I3e8CQIA"
      }
    },
    {
      "cell_type": "code",
      "source": [
        "pickle.dump(model, open('Ex5_shape_classifier.sav','wb'))"
      ],
      "metadata": {
        "id": "RhHZlrJ3nhsi"
      },
      "execution_count": 827,
      "outputs": []
    }
  ]
}