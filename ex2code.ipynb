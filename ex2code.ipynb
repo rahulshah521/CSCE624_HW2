{
 "cells": [
  {
   "cell_type": "markdown",
   "id": "737eeaf3-a582-4204-b463-56472515f5c0",
   "metadata": {
    "tags": []
   },
   "source": [
    "# Exercise 2"
   ]
  },
  {
   "cell_type": "markdown",
   "id": "ed207080-7845-48d4-947e-fd6f69646242",
   "metadata": {
    "tags": []
   },
   "source": [
    "#### Importing data and setting X and y"
   ]
  },
  {
   "cell_type": "code",
   "execution_count": 160,
   "id": "feb63ee0-ea0a-4793-ab8b-896bdaa259b4",
   "metadata": {},
   "outputs": [],
   "source": [
    "import pandas as pd\n",
    "from sklearn.metrics import classification_report\n",
    "from sklearn.feature_selection import SelectFromModel\n",
    "import pickle\n",
    "from sklearn.feature_selection import SelectKBest\n",
    "from sklearn.feature_selection import chi2"
   ]
  },
  {
   "cell_type": "code",
   "execution_count": 177,
   "id": "29278fd9-52cb-4429-8ded-4f4ddb3ed7fd",
   "metadata": {},
   "outputs": [],
   "source": [
    "with open('features.csv', 'r') as data:\n",
    "    df = pd.read_csv(data)"
   ]
  },
  {
   "cell_type": "code",
   "execution_count": 178,
   "id": "681890bb-974e-4fe7-bf52-7a0e4047d21d",
   "metadata": {},
   "outputs": [],
   "source": [
    "from sklearn.utils import shuffle\n",
    "data = shuffle(df)"
   ]
  },
  {
   "cell_type": "code",
   "execution_count": 224,
   "id": "42966f5c-ef3a-4830-8805-089c5787dea7",
   "metadata": {},
   "outputs": [
    {
     "name": "stdout",
     "output_type": "stream",
     "text": [
      "          f01       f02         f03       f04        f05       f06       f07  \\\n",
      "297 -0.989203 -0.146549  155.080624  0.959542  40.521599 -0.962450  0.271460   \n",
      "277  0.058722  0.998274   79.259069  1.056345  79.259069  0.492057  0.870563   \n",
      "408  0.000000  1.000000   79.246451  0.749699  58.008620  0.999851  0.017239   \n",
      "157  0.000000  1.000000   99.724621  1.201463  98.351411  0.325364  0.945589   \n",
      "352 -0.316228 -0.948683   55.072679  1.058407  54.589376  0.476283 -0.879292   \n",
      "..        ...       ...         ...       ...        ...       ...       ...   \n",
      "445  0.000000  1.000000   75.663730  0.776053  50.009999  0.979804  0.199960   \n",
      "245  0.707107  0.707107   71.867934  0.557124  68.883960  0.885547  0.464549   \n",
      "81   1.000000  0.000000   61.611687  0.946773  36.400549  0.796691  0.604386   \n",
      "10  -0.514496 -0.857493  147.434731  0.665207  36.796739  0.733761  0.679408   \n",
      "389 -0.514496  0.857493  110.462663  1.111197  49.929951 -0.540758  0.841178   \n",
      "\n",
      "            f08        f09        f10        f11       f12   f13  \n",
      "297  386.722698   7.382313  13.125615   4.364844  0.177778   562  \n",
      "277  211.600528   0.222082  11.220903  13.249887  0.203954   453  \n",
      "408  139.596831   3.141593   4.745076   1.543324  0.217778   547  \n",
      "157  186.628020  -6.283185   7.728457   7.120021  0.768889   656  \n",
      "352   61.840188  -2.356194   2.577509   1.510546  0.226562   265  \n",
      "..          ...        ...        ...        ...       ...   ...  \n",
      "445  149.149526   3.926991  15.566066  14.411539  0.160000   984  \n",
      "245  173.558175   0.463648  28.856441  34.786567  0.177778  1109  \n",
      "81   157.453730   6.283185  19.306147  14.997805  0.140625   922  \n",
      "10   425.508388  11.624371  14.754078   7.549979  0.722656   954  \n",
      "389  206.002703   5.034140   9.385981   5.798337  0.644444   672  \n",
      "\n",
      "[520 rows x 13 columns]\n"
     ]
    }
   ],
   "source": [
    "X_old = data.iloc[:,0:-1]\n",
    "y = data.iloc[:,-1]\n",
    "print(X)"
   ]
  },
  {
   "cell_type": "code",
   "execution_count": 228,
   "id": "a1f17b63-7cf3-4b6d-9234-5b2a5f4222dc",
   "metadata": {},
   "outputs": [
    {
     "name": "stdout",
     "output_type": "stream",
     "text": [
      "Index(['f01', 'f02', 'f04', 'f05', 'f06', 'f07', 'f08', 'f09', 'f10', 'f11'], dtype='object')\n"
     ]
    }
   ],
   "source": [
    "# Feature Selection\n",
    "best = SelectKBest(k=10)\n",
    "X = best.fit_transform(X_old, y)\n",
    "column_names = X_old.columns[best.get_support()]\n",
    "print(column_names)"
   ]
  },
  {
   "cell_type": "markdown",
   "id": "b88cb1aa-d987-4d31-b4b2-19cd53376b37",
   "metadata": {
    "tags": []
   },
   "source": [
    "### Train/test split"
   ]
  },
  {
   "cell_type": "code",
   "execution_count": 210,
   "id": "fd074201-a867-458f-b10a-108201d243c5",
   "metadata": {},
   "outputs": [],
   "source": [
    "from sklearn.model_selection import train_test_split\n",
    "X_train, X_test, y_train, y_test = train_test_split(X, y, test_size = 0.2)"
   ]
  },
  {
   "cell_type": "markdown",
   "id": "abca3d48-cd90-4b35-94c0-a823d0075c98",
   "metadata": {
    "tags": []
   },
   "source": [
    "### Dummy Classifier"
   ]
  },
  {
   "cell_type": "code",
   "execution_count": 211,
   "id": "0bca2e14-c729-46b3-bd13-1e1cdbf85cd1",
   "metadata": {},
   "outputs": [],
   "source": [
    "# Create Classifier\n",
    "from sklearn.dummy import DummyClassifier\n",
    "ZeroR = DummyClassifier()\n",
    "ZeroR.fit(X_train, y_train)\n",
    "y_pred = ZeroR.predict(X_test)"
   ]
  },
  {
   "cell_type": "code",
   "execution_count": 212,
   "id": "8fa379ba-c80e-4263-b64c-314bf3662424",
   "metadata": {},
   "outputs": [
    {
     "name": "stdout",
     "output_type": "stream",
     "text": [
      "              precision    recall  f1-score   support\n",
      "\n",
      "           a       0.00      0.00      0.00         3\n",
      "           b       0.00      0.00      0.00         6\n",
      "           c       0.00      0.00      0.00         5\n",
      "           d       0.00      0.00      0.00         5\n",
      "           e       0.00      0.00      0.00         3\n",
      "           f       0.00      0.00      0.00         3\n",
      "           g       0.00      0.00      0.00         3\n",
      "           h       0.00      0.00      0.00         5\n",
      "           i       0.00      0.00      0.00         6\n",
      "           j       0.00      0.00      0.00         4\n",
      "           k       0.00      0.00      0.00         2\n",
      "           l       0.00      0.00      0.00         6\n",
      "           m       0.00      0.00      0.00         3\n",
      "           n       0.00      0.00      0.00         2\n",
      "           o       0.00      0.00      0.00         8\n",
      "           p       0.01      1.00      0.02         1\n",
      "           q       0.00      0.00      0.00         3\n",
      "           r       0.00      0.00      0.00         4\n",
      "           s       0.00      0.00      0.00         3\n",
      "           t       0.00      0.00      0.00         6\n",
      "           u       0.00      0.00      0.00         4\n",
      "           v       0.00      0.00      0.00         8\n",
      "           w       0.00      0.00      0.00         3\n",
      "           x       0.00      0.00      0.00         4\n",
      "           y       0.00      0.00      0.00         3\n",
      "           z       0.00      0.00      0.00         1\n",
      "\n",
      "    accuracy                           0.01       104\n",
      "   macro avg       0.00      0.04      0.00       104\n",
      "weighted avg       0.00      0.01      0.00       104\n",
      "\n"
     ]
    },
    {
     "name": "stderr",
     "output_type": "stream",
     "text": [
      "C:\\Users\\jlee4\\AppData\\Roaming\\jupyterlab-desktop\\jlab_server\\lib\\site-packages\\sklearn\\metrics\\_classification.py:1334: UndefinedMetricWarning: Precision and F-score are ill-defined and being set to 0.0 in labels with no predicted samples. Use `zero_division` parameter to control this behavior.\n",
      "  _warn_prf(average, modifier, msg_start, len(result))\n",
      "C:\\Users\\jlee4\\AppData\\Roaming\\jupyterlab-desktop\\jlab_server\\lib\\site-packages\\sklearn\\metrics\\_classification.py:1334: UndefinedMetricWarning: Precision and F-score are ill-defined and being set to 0.0 in labels with no predicted samples. Use `zero_division` parameter to control this behavior.\n",
      "  _warn_prf(average, modifier, msg_start, len(result))\n",
      "C:\\Users\\jlee4\\AppData\\Roaming\\jupyterlab-desktop\\jlab_server\\lib\\site-packages\\sklearn\\metrics\\_classification.py:1334: UndefinedMetricWarning: Precision and F-score are ill-defined and being set to 0.0 in labels with no predicted samples. Use `zero_division` parameter to control this behavior.\n",
      "  _warn_prf(average, modifier, msg_start, len(result))\n"
     ]
    }
   ],
   "source": [
    "# Create Classification Report\n",
    "print(classification_report(y_test, y_pred))"
   ]
  },
  {
   "cell_type": "markdown",
   "id": "27a26816-e85b-4525-ab56-e0e66f329ea7",
   "metadata": {
    "tags": []
   },
   "source": [
    "### Decision Tree"
   ]
  },
  {
   "cell_type": "code",
   "execution_count": 213,
   "id": "7f20f326-d3ea-479e-84b8-512a1a2d29ca",
   "metadata": {},
   "outputs": [
    {
     "name": "stdout",
     "output_type": "stream",
     "text": [
      "              precision    recall  f1-score   support\n",
      "\n",
      "           a       1.00      0.67      0.80         3\n",
      "           b       0.50      0.33      0.40         6\n",
      "           c       0.33      0.60      0.43         5\n",
      "           d       0.57      0.80      0.67         5\n",
      "           e       1.00      0.67      0.80         3\n",
      "           f       0.67      0.67      0.67         3\n",
      "           g       0.67      0.67      0.67         3\n",
      "           h       1.00      0.60      0.75         5\n",
      "           i       0.75      1.00      0.86         6\n",
      "           j       0.75      0.75      0.75         4\n",
      "           k       0.25      0.50      0.33         2\n",
      "           l       0.67      0.33      0.44         6\n",
      "           m       0.75      1.00      0.86         3\n",
      "           n       0.40      1.00      0.57         2\n",
      "           o       0.71      0.62      0.67         8\n",
      "           p       0.50      1.00      0.67         1\n",
      "           q       0.75      1.00      0.86         3\n",
      "           r       0.33      0.25      0.29         4\n",
      "           s       1.00      0.67      0.80         3\n",
      "           t       1.00      0.33      0.50         6\n",
      "           u       1.00      1.00      1.00         4\n",
      "           v       0.62      0.62      0.62         8\n",
      "           w       0.75      1.00      0.86         3\n",
      "           x       0.50      0.25      0.33         4\n",
      "           y       0.50      0.33      0.40         3\n",
      "           z       0.00      0.00      0.00         1\n",
      "\n",
      "    accuracy                           0.62       104\n",
      "   macro avg       0.65      0.64      0.61       104\n",
      "weighted avg       0.68      0.62      0.62       104\n",
      "\n"
     ]
    }
   ],
   "source": [
    "from sklearn.tree import DecisionTreeClassifier\n",
    "tree = DecisionTreeClassifier()\n",
    "tree.fit(X_train, y_train)\n",
    "y_pred = tree.predict(X_test)\n",
    "print(classification_report(y_test, y_pred))"
   ]
  },
  {
   "cell_type": "code",
   "execution_count": 214,
   "id": "8d160d07-3712-4a6a-94de-052e80a25a1a",
   "metadata": {},
   "outputs": [
    {
     "name": "stdout",
     "output_type": "stream",
     "text": [
      "[0.08098015 0.12278728 0.10327562 0.06909304 0.05935132 0.12610174\n",
      " 0.14249017 0.12825779 0.07458705 0.09307583]\n"
     ]
    }
   ],
   "source": [
    "# Feature importances\n",
    "print(tree.feature_importances_)"
   ]
  },
  {
   "cell_type": "markdown",
   "id": "c7cb7f6c-8371-478c-917c-a3bb90cc56d0",
   "metadata": {},
   "source": [
    "### Random Forest"
   ]
  },
  {
   "cell_type": "code",
   "execution_count": 215,
   "id": "2d1362fa-3104-4952-9f2f-f268dd88a1a9",
   "metadata": {},
   "outputs": [
    {
     "name": "stdout",
     "output_type": "stream",
     "text": [
      "              precision    recall  f1-score   support\n",
      "\n",
      "           a       1.00      1.00      1.00         3\n",
      "           b       1.00      0.50      0.67         6\n",
      "           c       0.83      1.00      0.91         5\n",
      "           d       0.80      0.80      0.80         5\n",
      "           e       0.67      0.67      0.67         3\n",
      "           f       0.67      0.67      0.67         3\n",
      "           g       0.75      1.00      0.86         3\n",
      "           h       1.00      0.60      0.75         5\n",
      "           i       0.86      1.00      0.92         6\n",
      "           j       0.67      1.00      0.80         4\n",
      "           k       0.50      1.00      0.67         2\n",
      "           l       0.80      0.67      0.73         6\n",
      "           m       0.75      1.00      0.86         3\n",
      "           n       0.50      1.00      0.67         2\n",
      "           o       0.71      0.62      0.67         8\n",
      "           p       1.00      1.00      1.00         1\n",
      "           q       1.00      1.00      1.00         3\n",
      "           r       1.00      0.75      0.86         4\n",
      "           s       1.00      0.67      0.80         3\n",
      "           t       0.80      0.67      0.73         6\n",
      "           u       1.00      0.75      0.86         4\n",
      "           v       1.00      0.75      0.86         8\n",
      "           w       0.75      1.00      0.86         3\n",
      "           x       0.60      0.75      0.67         4\n",
      "           y       1.00      0.67      0.80         3\n",
      "           z       0.33      1.00      0.50         1\n",
      "\n",
      "    accuracy                           0.79       104\n",
      "   macro avg       0.81      0.83      0.79       104\n",
      "weighted avg       0.83      0.79      0.79       104\n",
      "\n"
     ]
    }
   ],
   "source": [
    "from sklearn.ensemble import RandomForestClassifier\n",
    "forest = RandomForestClassifier()\n",
    "forest.fit(X_train, y_train)\n",
    "y_pred = forest.predict(X_test)\n",
    "print(classification_report(y_test, y_pred))"
   ]
  },
  {
   "cell_type": "code",
   "execution_count": 216,
   "id": "df875909-3549-42ba-bf75-44ee9597d658",
   "metadata": {},
   "outputs": [
    {
     "name": "stdout",
     "output_type": "stream",
     "text": [
      "[0.06983063 0.07874361 0.11223354 0.06615879 0.12275516 0.11863749\n",
      " 0.09297074 0.15554233 0.08482293 0.09830479]\n"
     ]
    }
   ],
   "source": [
    "# Feature importances\n",
    "print(forest.feature_importances_)"
   ]
  },
  {
   "cell_type": "markdown",
   "id": "51ae0ff9-834c-470b-8a79-19999277fc72",
   "metadata": {
    "tags": []
   },
   "source": [
    "### Neural Net"
   ]
  },
  {
   "cell_type": "code",
   "execution_count": 217,
   "id": "dbb135ba-b356-44c3-85b4-79cc3e346bd1",
   "metadata": {},
   "outputs": [
    {
     "name": "stdout",
     "output_type": "stream",
     "text": [
      "              precision    recall  f1-score   support\n",
      "\n",
      "           a       0.22      0.67      0.33         3\n",
      "           b       0.50      0.17      0.25         6\n",
      "           c       0.00      0.00      0.00         5\n",
      "           d       0.67      0.40      0.50         5\n",
      "           e       0.20      0.67      0.31         3\n",
      "           f       0.33      0.33      0.33         3\n",
      "           g       0.00      0.00      0.00         3\n",
      "           h       0.00      0.00      0.00         5\n",
      "           i       0.86      1.00      0.92         6\n",
      "           j       0.00      0.00      0.00         4\n",
      "           k       0.00      0.00      0.00         2\n",
      "           l       0.71      0.83      0.77         6\n",
      "           m       0.43      1.00      0.60         3\n",
      "           n       0.20      1.00      0.33         2\n",
      "           o       0.71      0.62      0.67         8\n",
      "           p       0.14      1.00      0.25         1\n",
      "           q       0.00      0.00      0.00         3\n",
      "           r       0.00      0.00      0.00         4\n",
      "           s       0.15      0.67      0.25         3\n",
      "           t       0.00      0.00      0.00         6\n",
      "           u       0.33      0.50      0.40         4\n",
      "           v       0.00      0.00      0.00         8\n",
      "           w       1.00      1.00      1.00         3\n",
      "           x       0.00      0.00      0.00         4\n",
      "           y       0.00      0.00      0.00         3\n",
      "           z       0.20      1.00      0.33         1\n",
      "\n",
      "    accuracy                           0.37       104\n",
      "   macro avg       0.26      0.42      0.28       104\n",
      "weighted avg       0.29      0.37      0.30       104\n",
      "\n"
     ]
    },
    {
     "name": "stderr",
     "output_type": "stream",
     "text": [
      "C:\\Users\\jlee4\\AppData\\Roaming\\jupyterlab-desktop\\jlab_server\\lib\\site-packages\\sklearn\\metrics\\_classification.py:1334: UndefinedMetricWarning: Precision and F-score are ill-defined and being set to 0.0 in labels with no predicted samples. Use `zero_division` parameter to control this behavior.\n",
      "  _warn_prf(average, modifier, msg_start, len(result))\n",
      "C:\\Users\\jlee4\\AppData\\Roaming\\jupyterlab-desktop\\jlab_server\\lib\\site-packages\\sklearn\\metrics\\_classification.py:1334: UndefinedMetricWarning: Precision and F-score are ill-defined and being set to 0.0 in labels with no predicted samples. Use `zero_division` parameter to control this behavior.\n",
      "  _warn_prf(average, modifier, msg_start, len(result))\n",
      "C:\\Users\\jlee4\\AppData\\Roaming\\jupyterlab-desktop\\jlab_server\\lib\\site-packages\\sklearn\\metrics\\_classification.py:1334: UndefinedMetricWarning: Precision and F-score are ill-defined and being set to 0.0 in labels with no predicted samples. Use `zero_division` parameter to control this behavior.\n",
      "  _warn_prf(average, modifier, msg_start, len(result))\n"
     ]
    }
   ],
   "source": [
    "from sklearn.neural_network import MLPClassifier\n",
    "net = MLPClassifier()\n",
    "net.fit(X_train, y_train)\n",
    "y_pred = net.predict(X_test)\n",
    "print(classification_report(y_test, y_pred))"
   ]
  },
  {
   "cell_type": "markdown",
   "id": "11b89317-fc7c-424f-abd3-c331c7fe9732",
   "metadata": {
    "tags": []
   },
   "source": [
    "### Naive Bayes"
   ]
  },
  {
   "cell_type": "code",
   "execution_count": 218,
   "id": "4288c54c-16b4-4ad9-a40e-376347998de9",
   "metadata": {},
   "outputs": [
    {
     "name": "stdout",
     "output_type": "stream",
     "text": [
      "              precision    recall  f1-score   support\n",
      "\n",
      "           a       0.67      0.67      0.67         3\n",
      "           b       0.33      0.33      0.33         6\n",
      "           c       0.83      1.00      0.91         5\n",
      "           d       0.50      0.60      0.55         5\n",
      "           e       0.67      0.67      0.67         3\n",
      "           f       0.40      0.67      0.50         3\n",
      "           g       0.75      1.00      0.86         3\n",
      "           h       1.00      0.60      0.75         5\n",
      "           i       1.00      1.00      1.00         6\n",
      "           j       0.60      0.75      0.67         4\n",
      "           k       0.50      0.50      0.50         2\n",
      "           l       0.80      0.67      0.73         6\n",
      "           m       0.60      1.00      0.75         3\n",
      "           n       0.40      1.00      0.57         2\n",
      "           o       0.71      0.62      0.67         8\n",
      "           p       0.50      1.00      0.67         1\n",
      "           q       1.00      1.00      1.00         3\n",
      "           r       1.00      0.75      0.86         4\n",
      "           s       1.00      0.67      0.80         3\n",
      "           t       0.75      0.50      0.60         6\n",
      "           u       0.75      0.75      0.75         4\n",
      "           v       1.00      0.62      0.77         8\n",
      "           w       1.00      1.00      1.00         3\n",
      "           x       0.50      0.50      0.50         4\n",
      "           y       1.00      0.67      0.80         3\n",
      "           z       1.00      1.00      1.00         1\n",
      "\n",
      "    accuracy                           0.71       104\n",
      "   macro avg       0.74      0.75      0.73       104\n",
      "weighted avg       0.76      0.71      0.72       104\n",
      "\n"
     ]
    }
   ],
   "source": [
    "from sklearn.naive_bayes import GaussianNB\n",
    "bayes = GaussianNB()\n",
    "bayes.fit(X_train, y_train)\n",
    "y_pred = bayes.predict(X_test)\n",
    "print(classification_report(y_test, y_pred))"
   ]
  },
  {
   "cell_type": "markdown",
   "id": "3a343fcc-27cd-4ddb-96f0-351d1ffc816a",
   "metadata": {
    "tags": []
   },
   "source": [
    "### SVM"
   ]
  },
  {
   "cell_type": "code",
   "execution_count": 219,
   "id": "66f5fbb5-41dc-45cd-9f48-38423b310100",
   "metadata": {},
   "outputs": [
    {
     "name": "stdout",
     "output_type": "stream",
     "text": [
      "              precision    recall  f1-score   support\n",
      "\n",
      "           a       0.00      0.00      0.00         3\n",
      "           b       0.09      1.00      0.16         6\n",
      "           c       0.80      0.80      0.80         5\n",
      "           d       0.00      0.00      0.00         5\n",
      "           e       0.23      1.00      0.38         3\n",
      "           f       0.00      0.00      0.00         3\n",
      "           g       0.00      0.00      0.00         3\n",
      "           h       0.00      0.00      0.00         5\n",
      "           i       1.00      1.00      1.00         6\n",
      "           j       0.50      0.25      0.33         4\n",
      "           k       0.00      0.00      0.00         2\n",
      "           l       0.00      0.00      0.00         6\n",
      "           m       0.00      0.00      0.00         3\n",
      "           n       0.00      0.00      0.00         2\n",
      "           o       0.00      0.00      0.00         8\n",
      "           p       0.00      0.00      0.00         1\n",
      "           q       0.00      0.00      0.00         3\n",
      "           r       0.00      0.00      0.00         4\n",
      "           s       0.00      0.00      0.00         3\n",
      "           t       0.00      0.00      0.00         6\n",
      "           u       1.00      0.75      0.86         4\n",
      "           v       0.00      0.00      0.00         8\n",
      "           w       1.00      1.00      1.00         3\n",
      "           x       0.00      0.00      0.00         4\n",
      "           y       0.00      0.00      0.00         3\n",
      "           z       0.00      0.00      0.00         1\n",
      "\n",
      "    accuracy                           0.25       104\n",
      "   macro avg       0.18      0.22      0.17       104\n",
      "weighted avg       0.19      0.25      0.19       104\n",
      "\n"
     ]
    },
    {
     "name": "stderr",
     "output_type": "stream",
     "text": [
      "C:\\Users\\jlee4\\AppData\\Roaming\\jupyterlab-desktop\\jlab_server\\lib\\site-packages\\sklearn\\svm\\_base.py:1225: ConvergenceWarning: Liblinear failed to converge, increase the number of iterations.\n",
      "  warnings.warn(\n",
      "C:\\Users\\jlee4\\AppData\\Roaming\\jupyterlab-desktop\\jlab_server\\lib\\site-packages\\sklearn\\metrics\\_classification.py:1334: UndefinedMetricWarning: Precision and F-score are ill-defined and being set to 0.0 in labels with no predicted samples. Use `zero_division` parameter to control this behavior.\n",
      "  _warn_prf(average, modifier, msg_start, len(result))\n",
      "C:\\Users\\jlee4\\AppData\\Roaming\\jupyterlab-desktop\\jlab_server\\lib\\site-packages\\sklearn\\metrics\\_classification.py:1334: UndefinedMetricWarning: Precision and F-score are ill-defined and being set to 0.0 in labels with no predicted samples. Use `zero_division` parameter to control this behavior.\n",
      "  _warn_prf(average, modifier, msg_start, len(result))\n",
      "C:\\Users\\jlee4\\AppData\\Roaming\\jupyterlab-desktop\\jlab_server\\lib\\site-packages\\sklearn\\metrics\\_classification.py:1334: UndefinedMetricWarning: Precision and F-score are ill-defined and being set to 0.0 in labels with no predicted samples. Use `zero_division` parameter to control this behavior.\n",
      "  _warn_prf(average, modifier, msg_start, len(result))\n"
     ]
    }
   ],
   "source": [
    "from sklearn.svm import LinearSVC\n",
    "svm = LinearSVC()\n",
    "svm.fit(X_train, y_train)\n",
    "y_pred = svm.predict(X_test)\n",
    "print(classification_report(y_test, y_pred))"
   ]
  },
  {
   "cell_type": "markdown",
   "id": "6d646f2b-8e9e-4a16-9e64-a8eb543c2e2b",
   "metadata": {
    "tags": []
   },
   "source": [
    "### Perceptron"
   ]
  },
  {
   "cell_type": "code",
   "execution_count": 220,
   "id": "eccff759-7946-415b-b82c-cd46c140f557",
   "metadata": {},
   "outputs": [
    {
     "name": "stdout",
     "output_type": "stream",
     "text": [
      "              precision    recall  f1-score   support\n",
      "\n",
      "           a       0.00      0.00      0.00         3\n",
      "           b       0.00      0.00      0.00         6\n",
      "           c       0.00      0.00      0.00         5\n",
      "           d       0.00      0.00      0.00         5\n",
      "           e       0.00      0.00      0.00         3\n",
      "           f       0.20      0.33      0.25         3\n",
      "           g       0.00      0.00      0.00         3\n",
      "           h       0.05      1.00      0.10         5\n",
      "           i       0.00      0.00      0.00         6\n",
      "           j       0.00      0.00      0.00         4\n",
      "           k       0.00      0.00      0.00         2\n",
      "           l       0.00      0.00      0.00         6\n",
      "           m       0.50      0.33      0.40         3\n",
      "           n       0.00      0.00      0.00         2\n",
      "           o       0.00      0.00      0.00         8\n",
      "           p       0.00      0.00      0.00         1\n",
      "           q       0.00      0.00      0.00         3\n",
      "           r       0.00      0.00      0.00         4\n",
      "           s       0.00      0.00      0.00         3\n",
      "           t       0.00      0.00      0.00         6\n",
      "           u       0.00      0.00      0.00         4\n",
      "           v       0.00      0.00      0.00         8\n",
      "           w       1.00      0.67      0.80         3\n",
      "           x       0.00      0.00      0.00         4\n",
      "           y       0.00      0.00      0.00         3\n",
      "           z       0.00      0.00      0.00         1\n",
      "\n",
      "    accuracy                           0.09       104\n",
      "   macro avg       0.07      0.09      0.06       104\n",
      "weighted avg       0.05      0.09      0.05       104\n",
      "\n"
     ]
    },
    {
     "name": "stderr",
     "output_type": "stream",
     "text": [
      "C:\\Users\\jlee4\\AppData\\Roaming\\jupyterlab-desktop\\jlab_server\\lib\\site-packages\\sklearn\\metrics\\_classification.py:1334: UndefinedMetricWarning: Precision and F-score are ill-defined and being set to 0.0 in labels with no predicted samples. Use `zero_division` parameter to control this behavior.\n",
      "  _warn_prf(average, modifier, msg_start, len(result))\n",
      "C:\\Users\\jlee4\\AppData\\Roaming\\jupyterlab-desktop\\jlab_server\\lib\\site-packages\\sklearn\\metrics\\_classification.py:1334: UndefinedMetricWarning: Precision and F-score are ill-defined and being set to 0.0 in labels with no predicted samples. Use `zero_division` parameter to control this behavior.\n",
      "  _warn_prf(average, modifier, msg_start, len(result))\n",
      "C:\\Users\\jlee4\\AppData\\Roaming\\jupyterlab-desktop\\jlab_server\\lib\\site-packages\\sklearn\\metrics\\_classification.py:1334: UndefinedMetricWarning: Precision and F-score are ill-defined and being set to 0.0 in labels with no predicted samples. Use `zero_division` parameter to control this behavior.\n",
      "  _warn_prf(average, modifier, msg_start, len(result))\n"
     ]
    }
   ],
   "source": [
    "from sklearn.linear_model import Perceptron\n",
    "tron = Perceptron()\n",
    "tron.fit(X_train, y_train)\n",
    "y_pred = tron.predict(X_test)\n",
    "print(classification_report(y_test, y_pred))"
   ]
  },
  {
   "cell_type": "markdown",
   "id": "d6ed8076-a3a9-4d8d-9e31-fb8fcc7247f8",
   "metadata": {},
   "source": [
    "### Pickling everything"
   ]
  },
  {
   "cell_type": "code",
   "execution_count": 221,
   "id": "93af01ac-4c65-41a5-a2a1-90c4f83fbe6a",
   "metadata": {},
   "outputs": [],
   "source": [
    "pickle.dump(ZeroR, open('ZeroR.sav', 'wb'))\n",
    "pickle.dump(tree, open('tree.sav', 'wb'))\n",
    "pickle.dump(forest, open('forest.sav', 'wb'))\n",
    "pickle.dump(net, open('net.sav', 'wb'))\n",
    "pickle.dump(bayes, open('bayes.sav', 'wb'))\n",
    "pickle.dump(svm, open('svm.sav', 'wb'))\n",
    "pickle.dump(tron, open('tron.sav', 'wb'))"
   ]
  }
 ],
 "metadata": {
  "kernelspec": {
   "display_name": "Python 3 (ipykernel)",
   "language": "python",
   "name": "python3"
  },
  "language_info": {
   "codemirror_mode": {
    "name": "ipython",
    "version": 3
   },
   "file_extension": ".py",
   "mimetype": "text/x-python",
   "name": "python",
   "nbconvert_exporter": "python",
   "pygments_lexer": "ipython3",
   "version": "3.8.13"
  }
 },
 "nbformat": 4,
 "nbformat_minor": 5
}
